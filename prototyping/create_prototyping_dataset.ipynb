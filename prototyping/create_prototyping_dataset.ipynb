{
 "cells": [
  {
   "cell_type": "code",
   "execution_count": 40,
   "metadata": {},
   "outputs": [],
   "source": [
    "import os\n",
    "import random\n",
    "import shutil"
   ]
  },
  {
   "cell_type": "code",
   "execution_count": 6,
   "metadata": {},
   "outputs": [],
   "source": [
    "original_path = \"./dataset/DFWild-Cup\"\n",
    "prototype_path = \"./dataset/prototyping\""
   ]
  },
  {
   "cell_type": "code",
   "execution_count": 12,
   "metadata": {},
   "outputs": [
    {
     "name": "stdout",
     "output_type": "stream",
     "text": [
      "Real images: 42690 || Fake images: 197519\n",
      "Valid Real images: 1548 || Valid Fake images: 1524\n"
     ]
    }
   ],
   "source": [
    "original_real_images = os.listdir(os.path.join(original_path, \"train/real\"))\n",
    "original_fake_images = os.listdir(os.path.join(original_path, \"train/fake\"))\n",
    "valid_real_images = os.listdir(os.path.join(original_path, \"valid/real\"))\n",
    "valid_fake_images = os.listdir(os.path.join(original_path, \"valid/fake\"))\n",
    "print(f\"Real images: {len(original_real_images)} || Fake images: {len(original_fake_images)}\")\n",
    "print(f\"Valid Real images: {len(valid_real_images)} || Valid Fake images: {len(valid_fake_images)}\")"
   ]
  },
  {
   "cell_type": "code",
   "execution_count": 13,
   "metadata": {},
   "outputs": [],
   "source": [
    "prototype_train_size = 6000\n",
    "prototype_valid_size = 100"
   ]
  },
  {
   "cell_type": "code",
   "execution_count": 17,
   "metadata": {},
   "outputs": [],
   "source": [
    "prototype_real_images = random.sample(original_real_images, prototype_train_size)\n",
    "prototype_fake_images = random.sample(original_fake_images, prototype_train_size)\n",
    "prototype_valid_real = random.sample(valid_real_images, prototype_valid_size)\n",
    "prototype_valid_fake = random.sample(valid_fake_images, prototype_valid_size)"
   ]
  },
  {
   "cell_type": "code",
   "execution_count": null,
   "metadata": {},
   "outputs": [
    {
     "name": "stdout",
     "output_type": "stream",
     "text": [
      "[================================================100.00%===================================================]\r"
     ]
    }
   ],
   "source": [
    "def progress_bar(completed, total):\n",
    "    percent = completed / total\n",
    "    chips = int(percent * 100)\n",
    "    bar = f\"[{'=' * chips}{' ' * (100 - chips)}]\"\n",
    "    bar = bar[:49] + f\"{percent * 100:05.2f}%\" + bar[50:]\n",
    "\n",
    "    print(bar, end='\\r', flush=True)"
   ]
  },
  {
   "cell_type": "code",
   "execution_count": 35,
   "metadata": {},
   "outputs": [],
   "source": [
    "def copy_files(filenames, source_parent_path, destination_parent_path):\n",
    "    completed = 0\n",
    "    total = len(filenames)\n",
    "\n",
    "    for filename in filenames:\n",
    "        source = os.path.join(source_parent_path, filename)\n",
    "        destination = os.path.join(destination_parent_path, filename)\n",
    "        shutil.copy(source, destination)\n",
    "        completed += 1\n",
    "        progress_bar(completed, total)\n",
    "\n",
    "    print(f\"\\nFinished moving files from {source_parent_path} to {destination_parent_path}\")"
   ]
  },
  {
   "cell_type": "code",
   "execution_count": 41,
   "metadata": {},
   "outputs": [
    {
     "name": "stdout",
     "output_type": "stream",
     "text": [
      "Moving files from ./dataset/DFWild-Cup\\train/real to ./dataset/prototyping\\train/real\n",
      "[================================================100.00%===================================================]\n",
      "Finished moving files from ./dataset/DFWild-Cup\\train/real to ./dataset/prototyping\\train/real\n",
      "Moving files from ./dataset/DFWild-Cup\\train/fake to ./dataset/prototyping\\train/fake\n",
      "[================================================100.00%===================================================]\n",
      "Finished moving files from ./dataset/DFWild-Cup\\train/fake to ./dataset/prototyping\\train/fake\n",
      "Moving files from ./dataset/DFWild-Cup\\valid/real to ./dataset/prototyping\\valid/real\n",
      "[================================================100.00%===================================================]\n",
      "Finished moving files from ./dataset/DFWild-Cup\\valid/real to ./dataset/prototyping\\valid/real\n",
      "Moving files from ./dataset/DFWild-Cup\\valid/fake to ./dataset/prototyping\\valid/fake\n",
      "[================================================100.00%===================================================]\n",
      "Finished moving files from ./dataset/DFWild-Cup\\valid/fake to ./dataset/prototyping\\valid/fake\n"
     ]
    }
   ],
   "source": [
    "source_and_files = {\n",
    "    \"train/real\": prototype_real_images,\n",
    "    \"train/fake\": prototype_fake_images,\n",
    "    \"valid/real\": prototype_valid_real,\n",
    "    \"valid/fake\": prototype_valid_fake,\n",
    "}\n",
    "\n",
    "for source, files in source_and_files.items():\n",
    "    source_path = os.path.join(original_path, source)\n",
    "    dest_path = os.path.join(prototype_path, source)\n",
    "    print(f\"Moving files from {source_path} to {dest_path}\")\n",
    "    copy_files(files, source_path, dest_path)"
   ]
  }
 ],
 "metadata": {
  "kernelspec": {
   "display_name": ".venv",
   "language": "python",
   "name": "python3"
  },
  "language_info": {
   "codemirror_mode": {
    "name": "ipython",
    "version": 3
   },
   "file_extension": ".py",
   "mimetype": "text/x-python",
   "name": "python",
   "nbconvert_exporter": "python",
   "pygments_lexer": "ipython3",
   "version": "3.11.7"
  }
 },
 "nbformat": 4,
 "nbformat_minor": 2
}
